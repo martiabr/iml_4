{
 "cells": [
  {
   "cell_type": "markdown",
   "metadata": {
    "colab_type": "text",
    "id": "NaXGjpriBD3Y"
   },
   "source": [
    "Imports:"
   ]
  },
  {
   "cell_type": "code",
   "execution_count": 1,
   "metadata": {
    "colab": {},
    "colab_type": "code",
    "id": "SMEZPbd9A6Y0"
   },
   "outputs": [
    {
     "name": "stdout",
     "output_type": "stream",
     "text": [
      "Num GPUs: 1\n"
     ]
    }
   ],
   "source": [
    "import tensorflow.keras\n",
    "import tensorflow as tf\n",
    "physical_devices = tf.config.list_physical_devices('GPU')\n",
    "print(\"Num GPUs:\", len(physical_devices))\n",
    "import numpy as np\n",
    "import pandas as pd\n",
    "import tensorflow as tf\n",
    "from matplotlib import pyplot as plt\n",
    "import os\n",
    "import pydot\n",
    "import tensorflow.keras as keras\n",
    "from tensorflow.keras.regularizers import l2\n",
    "from tensorflow.keras.utils import plot_model\n",
    "from tensorflow.keras import backend as K\n",
    "from tensorflow.keras.applications.resnet50 import ResNet50\n",
    "from tensorflow.keras.preprocessing import image\n",
    "from tensorflow.keras.applications.resnet50 import preprocess_input, decode_predictions\n",
    "from tensorflow.keras import layers\n",
    "from tensorflow.keras import initializers\n",
    "from tensorflow.keras.models import Sequential, Model\n",
    "from tensorflow.keras.layers import Dense, Conv2D, Flatten, Conv3D, Dropout,MaxPooling2D,BatchNormalization\n",
    "from tensorflow.keras.optimizers import SGD, Adam"
   ]
  },
  {
   "cell_type": "markdown",
   "metadata": {
    "colab_type": "text",
    "id": "d8jksQgPBFd2"
   },
   "source": [
    "Load images:"
   ]
  },
  {
   "cell_type": "code",
   "execution_count": 23,
   "metadata": {
    "colab": {
     "base_uri": "https://localhost:8080/",
     "height": 1000
    },
    "colab_type": "code",
    "id": "GByNpCSpA-WV",
    "outputId": "5c85042a-950c-4497-a771-d1cf5112357e"
   },
   "outputs": [],
   "source": [
    "folder_path = 'food/'\n",
    "aim_folder_path = 'foodpreprocessed/'\n",
    "\n",
    "img_width, img_height = 224, 224\n",
    "\n",
    "# load all images into a list\n",
    "file_list = sorted(os.listdir(folder_path))\n",
    "images = []\n",
    "names = []\n",
    "i = 0\n",
    "for img in file_list:\n",
    "    if img == '.DS_Store':  # ignore stupid fookin mac file that wont go away\n",
    "        continue\n",
    "    thisname = img.split('.')[0]\n",
    "    names.append(img)\n",
    "    img = os.path.join(folder_path, img)\n",
    "    img = image.load_img(img, target_size=(img_width, img_height))\n",
    "    img = image.img_to_array(img)\n",
    "    img = np.expand_dims(img, axis=0)\n",
    "    #img = preprocess_input(img)\n",
    "    np.save(aim_folder_path+thisname, img)\n",
    "    images.append(img)\n",
    "\n",
    "# stack up images list to pass for prediction\n",
    "images = np.vstack(images)"
   ]
  },
  {
   "cell_type": "markdown",
   "metadata": {
    "colab_type": "text",
    "id": "IhBXYpGiBRN5"
   },
   "source": [
    "Load triplets:"
   ]
  },
  {
   "cell_type": "code",
   "execution_count": 24,
   "metadata": {
    "colab": {
     "base_uri": "https://localhost:8080/",
     "height": 265
    },
    "colab_type": "code",
    "id": "A-kfCMQXBSe_",
    "outputId": "18b13ac7-b25c-4df4-aeb2-d44b9c1bf488"
   },
   "outputs": [
    {
     "name": "stdout",
     "output_type": "stream",
     "text": [
      "          0     1     2\n",
      "0      2461  3450  2678\n",
      "1      2299  2499  4987\n",
      "2      4663  1056  3029\n",
      "3      4532  1186  1297\n",
      "4      3454  3809  2204\n",
      "...     ...   ...   ...\n",
      "59510   466  2952  2530\n",
      "59511  2646  3580  2359\n",
      "59512  3255  4844  4334\n",
      "59513  2136  4619   161\n",
      "59514  2509  2552  3406\n",
      "\n",
      "[59515 rows x 3 columns]\n"
     ]
    }
   ],
   "source": [
    "df_triplets = pd.read_csv('train_triplets.txt', sep=\" \", header=None)\n",
    "print(df_triplets)"
   ]
  },
  {
   "cell_type": "markdown",
   "metadata": {
    "colab_type": "text",
    "id": "E-54nFn_BVqX"
   },
   "source": [
    "Train-validation split:"
   ]
  },
  {
   "cell_type": "code",
   "execution_count": 25,
   "metadata": {
    "colab": {
     "base_uri": "https://localhost:8080/",
     "height": 514
    },
    "colab_type": "code",
    "id": "JrYFn65bBYQy",
    "outputId": "46e1004e-122d-42b7-a431-532847a02878"
   },
   "outputs": [
    {
     "name": "stdout",
     "output_type": "stream",
     "text": [
      "          0     1     2\n",
      "0      2461  3450  2678\n",
      "1      2299  2499  4987\n",
      "2      4663  1056  3029\n",
      "3      4532  1186  1297\n",
      "4      3454  3809  2204\n",
      "...     ...   ...   ...\n",
      "16025   450   219  4712\n",
      "16026   236  1229  4090\n",
      "16027   880  1818   621\n",
      "16028   466  2952  2530\n",
      "16029  2646  3580  2359\n",
      "\n",
      "[16030 rows x 3 columns]\n",
      "         0     1     2\n",
      "0      683  2848  2039\n",
      "1     4404  2384  2478\n",
      "2     1019  4241  4114\n",
      "3     4108  1020  1523\n",
      "4       64  2252   773\n",
      "...    ...   ...   ...\n",
      "4963  4020  2390  1285\n",
      "4964  4990  4028  2647\n",
      "4965  1716  4431  3398\n",
      "4966  1550  1222  1140\n",
      "4967  1940    38  2869\n",
      "\n",
      "[4968 rows x 3 columns]\n"
     ]
    }
   ],
   "source": [
    "df_triplets_train = pd.DataFrame(columns = [0, 1, 2])\n",
    "df_triplets_val = pd.DataFrame(columns = [0, 1, 2])\n",
    "\n",
    "N = 330\n",
    "for idx, row in df_triplets.iterrows():\n",
    "  if idx < N:  # first N rows go in train\n",
    "    df_triplets_train = df_triplets_train.append(row)\n",
    "  elif all(x not in df_triplets_train.values for x in [row[0], row[1], row[2]]):  # else if images not in train add to val\n",
    "    df_triplets_val = df_triplets_val.append(row)\n",
    "  elif all(x not in df_triplets_val.values for x in [row[0], row[1], row[2]]):  # else if images not in val add to train\n",
    "    df_triplets_train = df_triplets_train.append(row)\n",
    "  # else we discard triplet\n",
    "  \n",
    "df_triplets_train = df_triplets_train.reset_index(drop=True)\n",
    "df_triplets_val = df_triplets_val.reset_index(drop=True)\n",
    "\n",
    "print(df_triplets_train)\n",
    "print(df_triplets_val)"
   ]
  },
  {
   "cell_type": "markdown",
   "metadata": {
    "colab_type": "text",
    "id": "I3iTcX_wBcaY"
   },
   "source": [
    "Swap every other element so that 0/1 labels are balanced:"
   ]
  },
  {
   "cell_type": "markdown",
   "metadata": {
    "colab_type": "text",
    "id": "fNXJHtAVBoJD"
   },
   "source": [
    "Create labels:"
   ]
  },
  {
   "cell_type": "code",
   "execution_count": 26,
   "metadata": {
    "colab": {
     "base_uri": "https://localhost:8080/",
     "height": 265
    },
    "colab_type": "code",
    "id": "_rm1jd5IBrDR",
    "outputId": "dd1c3c44-c226-4581-a97a-6a36877ff76b",
    "scrolled": true
   },
   "outputs": [
    {
     "name": "stdout",
     "output_type": "stream",
     "text": [
      "[[1.]\n",
      " [1.]\n",
      " [1.]\n",
      " ...\n",
      " [1.]\n",
      " [1.]\n",
      " [1.]]\n",
      "[[1.]\n",
      " [1.]\n",
      " [1.]\n",
      " ...\n",
      " [1.]\n",
      " [1.]\n",
      " [1.]]\n"
     ]
    }
   ],
   "source": [
    "y_train = np.empty((df_triplets_train.shape[0], 1))\n",
    "y_train[:] = 1\n",
    "print(y_train)\n",
    "\n",
    "y_val = np.empty((df_triplets_val.shape[0], 1))\n",
    "y_val[:] = 1\n",
    "print(y_val)\n",
    "\n",
    "df_triplets_train = df_triplets_train.sample(frac=1).reset_index(drop=True)\n",
    "df_triplets_val = df_triplets_val.sample(frac=1).reset_index(drop=True)\n",
    "\n",
    "df_triplets_train.to_pickle(\"df_tiplets_train_random\")\n",
    "df_triplets_val.to_pickle(\"df_tiplets_val_random\")\n",
    "np.save(\"y_train_random\",y_train)\n",
    "np.save(\"y_val_random\",y_val)"
   ]
  },
  {
   "cell_type": "markdown",
   "metadata": {
    "colab_type": "text",
    "id": "q7Z_oUmtBtHs"
   },
   "source": [
    "Transform triplets of image indexes --> triplets of images:"
   ]
  },
  {
   "cell_type": "code",
   "execution_count": 2,
   "metadata": {
    "colab": {},
    "colab_type": "code",
    "id": "9FLJ_imKB9ia"
   },
   "outputs": [],
   "source": [
    "def imageLoader(files, y_values, batch_size):\n",
    "\n",
    "    im0 = files[0]\n",
    "    im1 = files[1]\n",
    "    im2 = files[2]\n",
    "    \n",
    "    L = len(im0)\n",
    "\n",
    "    #this line is just to make the generator infinite, keras needs that    \n",
    "    while True:\n",
    "        \n",
    "        batch_start = 0\n",
    "        batch_end = batch_size\n",
    "\n",
    "        while batch_start < L:\n",
    "            limit = min(batch_end, L)\n",
    "            X1 = someMethodToLoadImages(im0[batch_start:limit])\n",
    "            X2 = someMethodToLoadImages(im1[batch_start:limit])\n",
    "            X3 = someMethodToLoadImages(im2[batch_start:limit])\n",
    "            X = [X1,X2,X3]\n",
    "            Y = y_values[batch_start:batch_end]\n",
    "            #print(Y)\n",
    "            Y = np.vstack(Y)\n",
    "            #print(X1.shape)\n",
    "            #print(Y.shape)\n",
    "            yield (X,Y) #a tuple with two numpy arrays with batch_size samples     \n",
    "\n",
    "            batch_start += batch_size   \n",
    "            batch_end += batch_size\n",
    "            \n",
    "def someMethodToLoadImages(im0):\n",
    "    train_0 = []\n",
    "    aim_folder_path = 'foodpreprocessed/'\n",
    "\n",
    "    for imID in im0:\n",
    "        train_0.append(np.load(aim_folder_path+str(imID).zfill(5)+'.npy'))\n",
    "      #  print(train_0[-1].shape)\n",
    "    train_0 = np.vstack(train_0)\n",
    "    \n",
    "    return train_0\n",
    "\n",
    "def triplet_loss(y_true, y_pred, alpha = 0.1):\n",
    "    \"\"\"\n",
    "    Implementation of the triplet loss function\n",
    "    Arguments:\n",
    "    y_true -- true labels, required when you define a loss in Keras, you don't need it in this function.\n",
    "    y_pred -- python list containing three objects:\n",
    "            anchor -- the encodings for the anchor data\n",
    "            positive -- the encodings for the positive data (similar to anchor)\n",
    "            negative -- the encodings for the negative data (different from anchor)\n",
    "    Returns:\n",
    "    loss -- real number, value of the loss\n",
    "    \"\"\"\n",
    "    #print('y_pred.shape = ',y_pred)\n",
    "    \n",
    "    total_lenght = y_pred.shape.as_list()[-1]\n",
    "#     print('total_lenght=',  total_lenght)\n",
    "#     total_lenght =12\n",
    "    \n",
    "    anchor = y_pred[:,0:int(total_lenght*1/3)]\n",
    "    positive = y_pred[:,int(total_lenght*1/3):int(total_lenght*2/3)]\n",
    "    negative = y_pred[:,int(total_lenght*2/3):int(total_lenght*3/3)]\n",
    "\n",
    "    # distance between the anchor and the positive\n",
    "    pos_dist = K.sum(K.square(anchor-positive),axis=1)\n",
    "\n",
    "    # distance between the anchor and the negative\n",
    "    neg_dist = K.sum(K.square(anchor-negative),axis=1)\n",
    "\n",
    "    basic_loss = pos_dist-neg_dist+alpha\n",
    "    loss = K.maximum(basic_loss,0.0)\n",
    " \n",
    "    return loss"
   ]
  },
  {
   "cell_type": "markdown",
   "metadata": {
    "colab_type": "text",
    "id": "Orgndt4xBHpN"
   },
   "source": [
    "Setup model for three CNNs:"
   ]
  },
  {
   "cell_type": "code",
   "execution_count": 3,
   "metadata": {
    "colab": {
     "base_uri": "https://localhost:8080/",
     "height": 1000
    },
    "colab_type": "code",
    "id": "XbOU6gDOBDLq",
    "outputId": "f1bcc0d8-6ad4-464d-dea3-80862382b785",
    "scrolled": true
   },
   "outputs": [
    {
     "name": "stdout",
     "output_type": "stream",
     "text": [
      "Model: \"model\"\n",
      "__________________________________________________________________________________________________\n",
      "Layer (type)                    Output Shape         Param #     Connected to                     \n",
      "==================================================================================================\n",
      "inputA (InputLayer)             [(None, 224, 224, 3) 0                                            \n",
      "__________________________________________________________________________________________________\n",
      "inputB (InputLayer)             [(None, 224, 224, 3) 0                                            \n",
      "__________________________________________________________________________________________________\n",
      "inputC (InputLayer)             [(None, 224, 224, 3) 0                                            \n",
      "__________________________________________________________________________________________________\n",
      "sequential (Sequential)         (None, 5)            12924421    inputA[0][0]                     \n",
      "                                                                 inputB[0][0]                     \n",
      "                                                                 inputC[0][0]                     \n",
      "__________________________________________________________________________________________________\n",
      "concatenate (Concatenate)       (None, 15)           0           sequential[1][0]                 \n",
      "                                                                 sequential[2][0]                 \n",
      "                                                                 sequential[3][0]                 \n",
      "==================================================================================================\n",
      "Total params: 12,924,421\n",
      "Trainable params: 12,923,653\n",
      "Non-trainable params: 768\n",
      "__________________________________________________________________________________________________\n"
     ]
    },
    {
     "data": {
      "image/png": "[encoded data removed]",
      "text/plain": [
       "<IPython.core.display.Image object>"
      ]
     },
     "execution_count": 3,
     "metadata": {},
     "output_type": "execute_result"
    }
   ],
   "source": [
    "def createBaseNetwork(inDims, outDims):   \n",
    "    model = Sequential()\n",
    "    #model.add(BatchNormalization()) ###\n",
    "    model.add(Conv2D(filters=384, # 256\n",
    "                     kernel_size=(11,11), strides=(5,5), padding=\"same\",\n",
    "                     input_shape=(inDims[0], inDims[1], inDims[2]), activation=\"relu\",\n",
    "                     name=\"conv0\"))\n",
    "    model.add(MaxPooling2D(pool_size=(2,2), strides=(2,2), padding=\"same\", name=\"pool0\"))\n",
    "    model.add(BatchNormalization()) ###\n",
    "    model.add(Conv2D(filters=512, #512\n",
    "                     kernel_size=(7,7), strides=(3,4), padding=\"same\",\n",
    "                     activation=\"relu\", name=\"conv1\"))\n",
    "    model.add(MaxPooling2D(pool_size=(2,2), strides=(2,2), padding=\"same\", name=\"pool1\"))\n",
    "    model.add(Flatten(name=\"flatten\"))\n",
    "    model.add(Dropout(0.3)) # 0.3\n",
    "    model.add(Dense(512, activation=\"relu\", name=\"dense0\", kernel_regularizer=l2(0.005))) # 256 # 0.001\n",
    "    model.add(Dropout(0.3)) # 0.3\n",
    "    model.add(Dense(outDims, activation=\"linear\", name=\"embedding\"))\n",
    "    return model\n",
    "\n",
    "inputA = keras.Input(shape=(224,224,3),name='inputA')\n",
    "inputB = keras.Input(shape=(224,224,3),name='inputB')\n",
    "inputC = keras.Input(shape=(224,224,3),name='inputC')\n",
    "outputDims = 5\n",
    "\n",
    "sharedNetwork = createBaseNetwork(inDims=[224, 224, 3], outDims=outputDims)\n",
    "\n",
    "a = sharedNetwork(inputA)\n",
    "b = sharedNetwork(inputB)\n",
    "c = sharedNetwork(inputC)\n",
    "\n",
    "out = layers.concatenate([a,b,c])\n",
    "\n",
    "#out = layers.Dense(50, activation='relu')(out)\n",
    "#out = Dropout(rate = .2)(out)\n",
    "#out = layers.Dense(50,activation='relu')(out)\n",
    "#out = Dropout(rate = .2)(out)\n",
    "#out = layers.Dense(1,activation='sigmoid',name='output')(out)\n",
    "\n",
    "model = Model(inputs=[inputA,inputB,inputC], outputs=out)\n",
    "\n",
    "opt = opt = SGD(learning_rate=0.0001)\n",
    "model.compile(loss=triplet_loss, optimizer=opt, metrics=['accuracy'])\n",
    "\n",
    "model.summary()\n",
    "dot_img_file = 'model_1.png'\n",
    "plot_model(model, to_file=dot_img_file, show_shapes=True)"
   ]
  },
  {
   "cell_type": "markdown",
   "metadata": {
    "colab_type": "text",
    "id": "iKkzZh3BB_1a"
   },
   "source": [
    "Train model:"
   ]
  },
  {
   "cell_type": "code",
   "execution_count": 4,
   "metadata": {
    "colab": {
     "base_uri": "https://localhost:8080/",
     "height": 52
    },
    "colab_type": "code",
    "id": "q76emA1JCDKT",
    "outputId": "9d3c385b-74a8-4237-8888-6f17583fb51f"
   },
   "outputs": [
    {
     "name": "stdout",
     "output_type": "stream",
     "text": [
      "WARNING:tensorflow:sample_weight modes were coerced from\n",
      "  ...\n",
      "    to  \n",
      "  ['...']\n",
      "WARNING:tensorflow:sample_weight modes were coerced from\n",
      "  ...\n",
      "    to  \n",
      "  ['...']\n",
      "Train for 1335 steps, validate for 414 steps\n",
      "Epoch 1/30\n",
      "1335/1335 [==============================] - 371s 278ms/step - loss: 5.7314 - accuracy: 0.0863 - val_loss: 4.8153 - val_accuracy: 0.0395\n",
      "Epoch 2/30\n",
      "1335/1335 [==============================] - 360s 270ms/step - loss: 4.8617 - accuracy: 0.0616 - val_loss: 4.8005 - val_accuracy: 0.0364\n",
      "Epoch 3/30\n",
      "1335/1335 [==============================] - 357s 267ms/step - loss: 4.8114 - accuracy: 0.0582 - val_loss: 4.7884 - val_accuracy: 0.0376\n",
      "Epoch 4/30\n",
      "1335/1335 [==============================] - 358s 268ms/step - loss: 4.7884 - accuracy: 0.0700 - val_loss: 4.7755 - val_accuracy: 0.0415\n",
      "Epoch 5/30\n",
      "1335/1335 [==============================] - 357s 268ms/step - loss: 4.7728 - accuracy: 0.0675 - val_loss: 4.7624 - val_accuracy: 0.0336\n",
      "Epoch 6/30\n",
      "1335/1335 [==============================] - 356s 267ms/step - loss: 4.7591 - accuracy: 0.0664 - val_loss: 4.7499 - val_accuracy: 0.0250\n",
      "Epoch 7/30\n",
      "1335/1335 [==============================] - 362s 271ms/step - loss: 4.7454 - accuracy: 0.0634 - val_loss: 4.7372 - val_accuracy: 0.0322\n",
      "Epoch 8/30\n",
      "1335/1335 [==============================] - 359s 269ms/step - loss: 4.7314 - accuracy: 0.0669 - val_loss: 4.7248 - val_accuracy: 0.0238\n",
      "Epoch 9/30\n",
      "1335/1335 [==============================] - 358s 268ms/step - loss: 4.7189 - accuracy: 0.0641 - val_loss: 4.7124 - val_accuracy: 0.0298\n",
      "Epoch 10/30\n",
      "1335/1335 [==============================] - 357s 267ms/step - loss: 4.7064 - accuracy: 0.0614 - val_loss: 4.6999 - val_accuracy: 0.0242\n",
      "Epoch 11/30\n",
      "1335/1335 [==============================] - 356s 267ms/step - loss: 4.6936 - accuracy: 0.0632 - val_loss: 4.6877 - val_accuracy: 0.0286\n",
      "Epoch 12/30\n",
      "1335/1335 [==============================] - 356s 267ms/step - loss: 4.6805 - accuracy: 0.0674 - val_loss: 4.6755 - val_accuracy: 0.0244\n",
      "Epoch 13/30\n",
      "1335/1335 [==============================] - 356s 267ms/step - loss: 4.6688 - accuracy: 0.0707 - val_loss: 4.6632 - val_accuracy: 0.0256\n",
      "Epoch 14/30\n",
      "1335/1335 [==============================] - 365s 273ms/step - loss: 4.6568 - accuracy: 0.0667 - val_loss: 4.6511 - val_accuracy: 0.0260\n",
      "Epoch 15/30\n",
      "1335/1335 [==============================] - 362s 271ms/step - loss: 4.6437 - accuracy: 0.0663 - val_loss: 4.6389 - val_accuracy: 0.0229\n",
      "Epoch 16/30\n",
      "1335/1335 [==============================] - 358s 268ms/step - loss: 4.6319 - accuracy: 0.0622 - val_loss: 4.6268 - val_accuracy: 0.0223\n",
      "Epoch 17/30\n",
      "1335/1335 [==============================] - 357s 267ms/step - loss: 4.6196 - accuracy: 0.0582 - val_loss: 4.6147 - val_accuracy: 0.0233\n",
      "Epoch 18/30\n",
      "1335/1335 [==============================] - 356s 267ms/step - loss: 4.6073 - accuracy: 0.0591 - val_loss: 4.6026 - val_accuracy: 0.0284\n",
      "Epoch 19/30\n",
      "1335/1335 [==============================] - 356s 267ms/step - loss: 4.5955 - accuracy: 0.0670 - val_loss: 4.5906 - val_accuracy: 0.0262\n",
      "Epoch 20/30\n",
      "1335/1335 [==============================] - 356s 267ms/step - loss: 4.5825 - accuracy: 0.0594 - val_loss: 4.5786 - val_accuracy: 0.0225\n",
      "Epoch 21/30\n",
      "1335/1335 [==============================] - 361s 270ms/step - loss: 4.5706 - accuracy: 0.0593 - val_loss: 4.5665 - val_accuracy: 0.0274\n",
      "Epoch 22/30\n",
      "1335/1335 [==============================] - 363s 272ms/step - loss: 4.5592 - accuracy: 0.0597 - val_loss: 4.5546 - val_accuracy: 0.0278\n",
      "Epoch 23/30\n",
      "1335/1335 [==============================] - 358s 268ms/step - loss: 4.5469 - accuracy: 0.0591 - val_loss: 4.5428 - val_accuracy: 0.0316\n",
      "Epoch 24/30\n",
      "1335/1335 [==============================] - 356s 267ms/step - loss: 4.5350 - accuracy: 0.0647 - val_loss: 4.5309 - val_accuracy: 0.0312\n",
      "Epoch 25/30\n",
      "1335/1335 [==============================] - 356s 267ms/step - loss: 4.5224 - accuracy: 0.0580 - val_loss: 4.5191 - val_accuracy: 0.0240\n",
      "Epoch 26/30\n",
      "1335/1335 [==============================] - 356s 267ms/step - loss: 4.5116 - accuracy: 0.0581 - val_loss: 4.5074 - val_accuracy: 0.0227\n",
      "Epoch 27/30\n",
      "1335/1335 [==============================] - 362s 271ms/step - loss: 4.4988 - accuracy: 0.0583 - val_loss: 4.4956 - val_accuracy: 0.0252\n",
      "Epoch 28/30\n",
      "1335/1335 [==============================] - 358s 268ms/step - loss: 4.4873 - accuracy: 0.0555 - val_loss: 4.4839 - val_accuracy: 0.0246\n",
      "Epoch 29/30\n",
      "1335/1335 [==============================] - 359s 269ms/step - loss: 4.4754 - accuracy: 0.0563 - val_loss: 4.4722 - val_accuracy: 0.0231\n",
      "Epoch 30/30\n",
      "1335/1335 [==============================] - 357s 267ms/step - loss: 4.4635 - accuracy: 0.0557 - val_loss: 4.4606 - val_accuracy: 0.0322\n"
     ]
    },
    {
     "data": {
      "text/plain": [
       "<tensorflow.python.keras.callbacks.History at 0x21a89352f08>"
      ]
     },
     "execution_count": 4,
     "metadata": {},
     "output_type": "execute_result"
    }
   ],
   "source": [
    "df_triplets_train = pd.read_pickle(\"df_tiplets_train_random\")\n",
    "df_triplets_val = pd.read_pickle(\"df_tiplets_val_random\")\n",
    "y_train = np.load('y_train_random.npy')\n",
    "y_val = np.load('y_val_random.npy')\n",
    "\n",
    "batch_size = 12\n",
    "spe = df_triplets_train.shape[0]//batch_size\n",
    "vs = df_triplets_val.shape[0]//batch_size\n",
    "my_training_batch_generator = imageLoader(df_triplets_train, y_train, batch_size)\n",
    "my_validation_batch_generator = imageLoader(df_triplets_val, y_val, batch_size)\n",
    "callback = tf.keras.callbacks.EarlyStopping(monitor='loss', patience=3)\n",
    "model.fit(my_training_batch_generator,validation_data=(my_validation_batch_generator), steps_per_epoch=spe, validation_steps=vs, shuffle=True, epochs=30,callbacks=[callback])"
   ]
  },
  {
   "cell_type": "code",
   "execution_count": 10,
   "metadata": {},
   "outputs": [],
   "source": [
    "model.save('taste-similarity2.h5')"
   ]
  },
  {
   "cell_type": "markdown",
   "metadata": {
    "colab_type": "text",
    "id": "f8l2P7T7U9hO"
   },
   "source": []
  },
  {
   "cell_type": "code",
   "execution_count": 11,
   "metadata": {
    "colab": {},
    "colab_type": "code",
    "id": "3X16huZJU9hP"
   },
   "outputs": [
    {
     "name": "stdout",
     "output_type": "stream",
     "text": [
      "3722/3722 [==============================] - 364s 98ms/step\n"
     ]
    }
   ],
   "source": [
    "def imageLoaderTest(an,pos,neg, batch_size):\n",
    "\n",
    "    im0 = an\n",
    "    im1 = pos\n",
    "    im2 = neg\n",
    "    L = len(im0)\n",
    "    #this line is just to make the generator infinite, keras needs that    \n",
    "    while True:\n",
    "        \n",
    "        batch_start = 0\n",
    "        batch_end = batch_size\n",
    "\n",
    "        while batch_start < L:\n",
    "            limit = min(batch_end, L)\n",
    "            X1 = someMethodToLoadImages(im0[batch_start:limit])\n",
    "            X2 = someMethodToLoadImages(im1[batch_start:limit])\n",
    "            X3 = someMethodToLoadImages(im2[batch_start:limit])\n",
    "            X = [X1,X2,X3]\n",
    "            #print(X1.shape)\n",
    "            yield (X) #a tuple with two numpy arrays with batch_size samples     \n",
    "\n",
    "            batch_start += batch_size   \n",
    "            batch_end += batch_size\n",
    "\n",
    "df_triplets_test = pd.read_csv('test_triplets.txt', sep=\" \", header=None)\n",
    "number_of_rows = len(df_triplets_test)\n",
    "predictions = []\n",
    "col0 = df_triplets_test[0]\n",
    "col1 = df_triplets_test[1]\n",
    "col2 = df_triplets_test[2]\n",
    "\n",
    "batch_size=16\n",
    "testgenerator = imageLoaderTest(col0,col1,col2,batch_size)\n",
    "spe = df_triplets_test.shape[0]//batch_size + 1\n",
    "y_pred = model.predict(testgenerator,verbose=1,steps=spe)\n",
    "predictions.append(y_pred)"
   ]
  },
  {
   "cell_type": "code",
   "execution_count": 12,
   "metadata": {},
   "outputs": [
    {
     "name": "stdout",
     "output_type": "stream",
     "text": [
      "(59544, 15)\n",
      "3722\n"
     ]
    }
   ],
   "source": [
    "print(y_pred.shape)\n",
    "print(spe)"
   ]
  },
  {
   "cell_type": "code",
   "execution_count": 14,
   "metadata": {
    "colab": {},
    "colab_type": "code",
    "id": "BElWPxumU9hR"
   },
   "outputs": [
    {
     "name": "stdout",
     "output_type": "stream",
     "text": [
      "59544\n"
     ]
    }
   ],
   "source": [
    "answer = []\n",
    "for i in range(0,len(y_pred)):\n",
    "    row = y_pred[i]\n",
    "    row_length = len(row)\n",
    "    anchor = row[0:int(row_length*1/3)]\n",
    "    positive = row[int(row_length*1/3):int(row_length*2/3)]\n",
    "    negative = row[int(row_length*2/3):int(row_length*3/3)]\n",
    "    # distance between the anchor and the positive\n",
    "    pos_dist = np.sum(np.square(anchor-positive))\n",
    "    # distance between the anchor and the negative\n",
    "    neg_dist = np.sum(np.square(anchor-negative))\n",
    "    if pos_dist<neg_dist:\n",
    "        answer.append(1)\n",
    "    else:\n",
    "        answer.append(0)\n",
    "print(len(answer))\n",
    "pd.DataFrame(answer).to_csv(\"Answer.csv\", header=None, index=None)"
   ]
  },
  {
   "cell_type": "code",
   "execution_count": 15,
   "metadata": {},
   "outputs": [
    {
     "data": {
      "text/plain": [
       "59544"
      ]
     },
     "execution_count": 15,
     "metadata": {},
     "output_type": "execute_result"
    }
   ],
   "source": [
    "df_triplets_test = pd.read_csv('test_triplets.txt', sep=\" \", header=None)\n",
    "len(df_triplets_test)"
   ]
  },
  {
   "cell_type": "code",
   "execution_count": null,
   "metadata": {},
   "outputs": [],
   "source": []
  },
  {
   "cell_type": "code",
   "execution_count": null,
   "metadata": {},
   "outputs": [],
   "source": []
  }
 ],
 "metadata": {
  "colab": {
   "collapsed_sections": [],
   "name": "task4_try2.ipynb",
   "provenance": []
  },
  "kernelspec": {
   "display_name": "Python 3.7 (tensorflow)",
   "language": "python",
   "name": "tensorflow"
  },
  "language_info": {
   "codemirror_mode": {
    "name": "ipython",
    "version": 3
   },
   "file_extension": ".py",
   "mimetype": "text/x-python",
   "name": "python",
   "nbconvert_exporter": "python",
   "pygments_lexer": "ipython3",
   "version": "3.7.7"
  }
 },
 "nbformat": 4,
 "nbformat_minor": 4
}
