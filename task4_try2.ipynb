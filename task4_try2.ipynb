{
  "nbformat": 4,
  "nbformat_minor": 0,
  "metadata": {
    "colab": {
      "name": "task4_try2.ipynb",
      "provenance": [],
      "collapsed_sections": []
    },
    "kernelspec": {
      "name": "python3",
      "display_name": "Python 3"
    }
  },
  "cells": [
    {
      "cell_type": "markdown",
      "metadata": {
        "id": "NaXGjpriBD3Y",
        "colab_type": "text"
      },
      "source": [
        "Imports:"
      ]
    },
    {
      "cell_type": "code",
      "metadata": {
        "id": "SMEZPbd9A6Y0",
        "colab_type": "code",
        "colab": {}
      },
      "source": [
        "import numpy as np\n",
        "import pandas as pd\n",
        "import tensorflow as tf\n",
        "from matplotlib import pyplot as plt\n",
        "import os\n",
        "\n",
        "from tensorflow.keras.applications.resnet50 import ResNet50\n",
        "from tensorflow.keras.preprocessing import image\n",
        "from tensorflow.keras.applications.resnet50 import preprocess_input, decode_predictions\n",
        "from tensorflow.keras import layers\n",
        "from tensorflow.keras.models import Sequential, Model"
      ],
      "execution_count": 0,
      "outputs": []
    },
    {
      "cell_type": "markdown",
      "metadata": {
        "id": "d8jksQgPBFd2",
        "colab_type": "text"
      },
      "source": [
        "Load images:"
      ]
    },
    {
      "cell_type": "code",
      "metadata": {
        "id": "GByNpCSpA-WV",
        "colab_type": "code",
        "colab": {}
      },
      "source": [
        "folder_path = 'food/'\n",
        "\n",
        "img_width, img_height = 224, 224\n",
        "\n",
        "# load all images into a list\n",
        "file_list = sorted(os.listdir(folder_path))\n",
        "images = []\n",
        "for img in file_list:\n",
        "    if img == '.DS_Store':  # ignore stupid fookin mac file that wont go away\n",
        "        continue\n",
        "    img = os.path.join(folder_path, img)\n",
        "    img = image.load_img(img, target_size=(img_width, img_height))\n",
        "    img = image.img_to_array(img)\n",
        "    img = np.expand_dims(img, axis=0)\n",
        "    img = preprocess_input(img)\n",
        "    images.append(img)\n",
        "\n",
        "# stack up images list to pass for prediction\n",
        "images = np.vstack(images)"
      ],
      "execution_count": 0,
      "outputs": []
    },
    {
      "cell_type": "markdown",
      "metadata": {
        "id": "IhBXYpGiBRN5",
        "colab_type": "text"
      },
      "source": [
        "Load triplets:"
      ]
    },
    {
      "cell_type": "code",
      "metadata": {
        "id": "A-kfCMQXBSe_",
        "colab_type": "code",
        "colab": {}
      },
      "source": [
        "df_triplets = pd.read_csv('train_triplets.txt', sep=\" \", header=None)\n",
        "print(df_triplets)"
      ],
      "execution_count": 0,
      "outputs": []
    },
    {
      "cell_type": "markdown",
      "metadata": {
        "id": "E-54nFn_BVqX",
        "colab_type": "text"
      },
      "source": [
        "Train-validation split:"
      ]
    },
    {
      "cell_type": "code",
      "metadata": {
        "id": "JrYFn65bBYQy",
        "colab_type": "code",
        "colab": {}
      },
      "source": [
        "df_triplets_train = pd.DataFrame(columns = [0, 1, 2])\n",
        "df_triplets_val = pd.DataFrame(columns = [0, 1, 2])\n",
        "\n",
        "N = 325\n",
        "for idx, row in df_triplets.iterrows():\n",
        "  if idx < N:  # first N rows go in train\n",
        "    df_triplets_train = df_triplets_train.append(row)\n",
        "  elif all(x not in df_triplets_train.values for x in [row[0], row[1], row[2]]):  # else if images not in train add to val\n",
        "    df_triplets_val = df_triplets_val.append(row)\n",
        "  elif all(x not in df_triplets_val.values for x in [row[0], row[1], row[2]]):  # else if images not in val add to train\n",
        "    df_triplets_train = df_triplets_train.append(row)\n",
        "  # else we discard triplet\n",
        "  \n",
        "df_triplets_train = df_triplets_train.reset_index(drop=True)\n",
        "df_triplets_val = df_triplets_val.reset_index(drop=True)\n",
        "\n",
        "print(df_triplets_train)\n",
        "print(df_triplets_val)"
      ],
      "execution_count": 0,
      "outputs": []
    },
    {
      "cell_type": "markdown",
      "metadata": {
        "id": "I3iTcX_wBcaY",
        "colab_type": "text"
      },
      "source": [
        "Swap every other element so that 0/1 labels are balanced:"
      ]
    },
    {
      "cell_type": "code",
      "metadata": {
        "id": "oMNsFjYmBjLM",
        "colab_type": "code",
        "colab": {}
      },
      "source": [
        "for i, row in df_triplets_train.iterrows():\n",
        "  if i % 2 == 1:\n",
        "    temp = row[1]\n",
        "    df_triplets_train.at[i,1] = row[2]\n",
        "    df_triplets_train.at[i,2] = temp\n",
        "print(df_triplets_train)\n",
        "\n",
        "for i, row in df_triplets_val.iterrows():\n",
        "  if i % 2 == 1:\n",
        "    temp = row[1]\n",
        "    df_triplets_val.at[i,1] = row[2]\n",
        "    df_triplets_val.at[i,2] = temp\n",
        "print(df_triplets_val)"
      ],
      "execution_count": 0,
      "outputs": []
    },
    {
      "cell_type": "markdown",
      "metadata": {
        "id": "fNXJHtAVBoJD",
        "colab_type": "text"
      },
      "source": [
        "Create labels:"
      ]
    },
    {
      "cell_type": "code",
      "metadata": {
        "id": "_rm1jd5IBrDR",
        "colab_type": "code",
        "colab": {}
      },
      "source": [
        "y_train = np.empty((x_train.shape[0], 1))\n",
        "y_train[::2] = 1\n",
        "y_train[1::2] = 0\n",
        "print(y_train)\n",
        "\n",
        "y_val = np.empty((x_val.shape[0], 1))\n",
        "y_val[::2] = 1\n",
        "y_val[1::2] = 0\n",
        "print(y_val)"
      ],
      "execution_count": 0,
      "outputs": []
    },
    {
      "cell_type": "markdown",
      "metadata": {
        "id": "q7Z_oUmtBtHs",
        "colab_type": "text"
      },
      "source": [
        "Transform triplets of image indexes --> triplets of images:"
      ]
    },
    {
      "cell_type": "code",
      "metadata": {
        "id": "9FLJ_imKB9ia",
        "colab_type": "code",
        "colab": {}
      },
      "source": [
        "# TODO: do this transform"
      ],
      "execution_count": 0,
      "outputs": []
    },
    {
      "cell_type": "markdown",
      "metadata": {
        "id": "Orgndt4xBHpN",
        "colab_type": "text"
      },
      "source": [
        "Setup model for transfer learning:"
      ]
    },
    {
      "cell_type": "code",
      "metadata": {
        "id": "XbOU6gDOBDLq",
        "colab_type": "code",
        "colab": {}
      },
      "source": [
        "model1 = ResNet50(weights='imagenet', include_top=False)\n",
        "model2 = ResNet50(weights='imagenet', include_top=False)\n",
        "model3 = ResNet50(weights='imagenet', include_top=False)\n",
        "\n",
        "#  Make sure all layer names are unique (otherwise it gets upset) and freeze all pre-trained layers:\n",
        "for layer in model1.layers:\n",
        "  layer.trainable = False\n",
        "  layer._name = layer._name + str(\"_1\")\n",
        "for layer in model2.layers:\n",
        "  layer.trainable = False\n",
        "  layer._name = layer._name + str(\"_2\")\n",
        "for layer in model3.layers:\n",
        "  layer.trainable = False\n",
        "  layer._name = layer._name + str(\"_3\")\n",
        "\n",
        "out1 = model1.output\n",
        "out2 = model2.output\n",
        "out3 = model3.output\n",
        "\n",
        "x = layers.concatenate([out1, out2, out3])\n",
        "\n",
        "out = layers.Dense(1, activation='softmax')(x)\n",
        "\n",
        "model = Model(inputs=[model1.input, model2.input, model3.input], outputs=[out])\n",
        "\n",
        "model.compile(loss='binary_crossentropy', optimizer='adam', metrics=['accuracy'])\n",
        "\n",
        "print(model.summary())\n"
      ],
      "execution_count": 0,
      "outputs": []
    },
    {
      "cell_type": "markdown",
      "metadata": {
        "id": "iKkzZh3BB_1a",
        "colab_type": "text"
      },
      "source": [
        "Train model:"
      ]
    },
    {
      "cell_type": "code",
      "metadata": {
        "id": "q76emA1JCDKT",
        "colab_type": "code",
        "colab": {}
      },
      "source": [
        "#TODO: train the model"
      ],
      "execution_count": 0,
      "outputs": []
    }
  ]
}