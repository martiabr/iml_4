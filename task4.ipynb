{
  "nbformat": 4,
  "nbformat_minor": 0,
  "metadata": {
    "kernelspec": {
      "display_name": "Python 3",
      "language": "python",
      "name": "python3"
    },
    "language_info": {
      "codemirror_mode": {
        "name": "ipython",
        "version": 3
      },
      "file_extension": ".py",
      "mimetype": "text/x-python",
      "name": "python",
      "nbconvert_exporter": "python",
      "pygments_lexer": "ipython3",
      "version": "3.7.6"
    },
    "colab": {
      "name": "task4.ipynb",
      "provenance": [],
      "collapsed_sections": [
        "KNUKftv_udSG",
        "2xDel1HMudSK",
        "HligwW7rudSN",
        "4gf97ttRudSR"
      ],
      "toc_visible": true
    }
  },
  "cells": [
    {
      "cell_type": "markdown",
      "metadata": {
        "id": "Yd50r_ugudR0",
        "colab_type": "text"
      },
      "source": [
        "### Install keras and tensorflow:"
      ]
    },
    {
      "cell_type": "code",
      "metadata": {
        "id": "eF64RRuSudR1",
        "colab_type": "code",
        "colab": {}
      },
      "source": [
        "!conda install -c conda-forge keras --yes\n",
        "!conda install -c conda-forge tensorflow --yes"
      ],
      "execution_count": 0,
      "outputs": []
    },
    {
      "cell_type": "markdown",
      "metadata": {
        "id": "Eo-rQIyaudSB",
        "colab_type": "text"
      },
      "source": [
        "### Import libraries:"
      ]
    },
    {
      "cell_type": "code",
      "metadata": {
        "id": "ldvtyxpDudSB",
        "colab_type": "code",
        "colab": {}
      },
      "source": [
        "import numpy as np\n",
        "import pandas as pd\n",
        "import tensorflow as tf\n",
        "from matplotlib import pyplot as plt\n",
        "import os\n",
        "\n",
        "from tensorflow.keras.applications.resnet50 import ResNet50\n",
        "from tensorflow.keras.preprocessing import image\n",
        "from tensorflow.keras.applications.resnet50 import preprocess_input, decode_predictions\n",
        "from tensorflow.keras import layers\n",
        "from tensorflow.keras.models import Sequential"
      ],
      "execution_count": 0,
      "outputs": []
    },
    {
      "cell_type": "markdown",
      "metadata": {
        "id": "KNUKftv_udSG",
        "colab_type": "text"
      },
      "source": [
        "### Data import:"
      ]
    },
    {
      "cell_type": "code",
      "metadata": {
        "id": "nvUJSuorudSH",
        "colab_type": "code",
        "colab": {}
      },
      "source": [
        "folder_path = 'food/'\n",
        "\n",
        "img_width, img_height = 224, 224\n",
        "\n",
        "# load all images into a list\n",
        "file_list = sorted(os.listdir(folder_path))\n",
        "images = []\n",
        "for img in file_list:\n",
        "    if img == '.DS_Store':  # ignore stupid fookin mac file that wont go away\n",
        "        continue\n",
        "    img = os.path.join(folder_path, img)\n",
        "    img = image.load_img(img, target_size=(img_width, img_height))\n",
        "    img = image.img_to_array(img)\n",
        "    img = np.expand_dims(img, axis=0)\n",
        "    img = preprocess_input(img)\n",
        "    images.append(img)\n",
        "\n",
        "# stack up images list to pass for prediction\n",
        "images = np.vstack(images)"
      ],
      "execution_count": 0,
      "outputs": []
    },
    {
      "cell_type": "markdown",
      "metadata": {
        "id": "2xDel1HMudSK",
        "colab_type": "text"
      },
      "source": [
        "### Load pre-trained model:"
      ]
    },
    {
      "cell_type": "code",
      "metadata": {
        "id": "WKcjazD1udSK",
        "colab_type": "code",
        "colab": {},
        "outputId": "5a3c4048-70fe-4237-860f-1dff5d843be7"
      },
      "source": [
        "model = ResNet50(weights='imagenet')"
      ],
      "execution_count": 0,
      "outputs": [
        {
          "output_type": "stream",
          "text": [
            "WARNING:tensorflow:From /Users/martinbrandt/opt/anaconda3/lib/python3.7/site-packages/tensorflow/python/ops/resource_variable_ops.py:435: colocate_with (from tensorflow.python.framework.ops) is deprecated and will be removed in a future version.\n",
            "Instructions for updating:\n",
            "Colocations handled automatically by placer.\n"
          ],
          "name": "stdout"
        }
      ]
    },
    {
      "cell_type": "markdown",
      "metadata": {
        "id": "HligwW7rudSN",
        "colab_type": "text"
      },
      "source": [
        "### Predict:"
      ]
    },
    {
      "cell_type": "code",
      "metadata": {
        "id": "QLH39nACudSO",
        "colab_type": "code",
        "colab": {},
        "outputId": "d80f3897-456b-4597-eeb4-e1001e34b0f1"
      },
      "source": [
        "predictions = model.predict(images, batch_size=64, verbose=1)"
      ],
      "execution_count": 0,
      "outputs": [
        {
          "output_type": "stream",
          "text": [
            "10000/10000 [==============================] - 3732s 373ms/sample\n"
          ],
          "name": "stdout"
        }
      ]
    },
    {
      "cell_type": "markdown",
      "metadata": {
        "id": "4gf97ttRudSR",
        "colab_type": "text"
      },
      "source": [
        "### Save:"
      ]
    },
    {
      "cell_type": "code",
      "metadata": {
        "id": "hwWCnuIJudSS",
        "colab_type": "code",
        "colab": {},
        "outputId": "954c9364-f0cb-4aa2-a82c-2e6c1e576e6f"
      },
      "source": [
        "# Save top 3 label probabilities as the 3 features describing image:\n",
        "predictions_decoded = np.array(decode_predictions(predictions, top=3))\n",
        "predictions_decoded = predictions_decoded[:, :, 1]\n",
        "\n",
        "df = pd.DataFrame(predictions_decoded, columns=['first', 'second', 'third'])\n",
        "print(df)\n",
        "\n",
        "df.to_csv('food_features', index=False)"
      ],
      "execution_count": 0,
      "outputs": [
        {
          "output_type": "stream",
          "text": [
            "           first         second         third\n",
            "0        thimble      trilobite        packet\n",
            "1         potpie         bakery         dough\n",
            "2      ice_cream  mashed_potato         dough\n",
            "3      ice_cream          dough     meat_loaf\n",
            "4        burrito        pretzel     carbonara\n",
            "...          ...            ...           ...\n",
            "9995   ice_cream     neck_brace      lipstick\n",
            "9996  strawberry      ice_cream      baseball\n",
            "9997   meat_loaf          pizza  wooden_spoon\n",
            "9998   soup_bowl     frying_pan         loupe\n",
            "9999       dough           wool        mortar\n",
            "\n",
            "[10000 rows x 3 columns]\n"
          ],
          "name": "stdout"
        }
      ]
    },
    {
      "cell_type": "code",
      "metadata": {
        "id": "2HMxa-5VudSX",
        "colab_type": "code",
        "colab": {}
      },
      "source": [
        ""
      ],
      "execution_count": 0,
      "outputs": []
    },
    {
      "cell_type": "code",
      "metadata": {
        "id": "Mf-xu_ITudSa",
        "colab_type": "code",
        "colab": {},
        "outputId": "b4c6fef9-ab95-4258-c098-c2f8f3ee942b"
      },
      "source": [
        "'''img_path = 'food/00000.jpg'\n",
        "img = image.load_img(img_path, target_size=(224, 224))\n",
        "x = image.img_to_array(img)\n",
        "x = np.expand_dims(x, axis=0)\n",
        "x = preprocess_input(x)\n",
        "\n",
        "pred = model.predict(x)\n",
        "pred = np.array(decode_predictions(pred, top=3))\n",
        "print(pred)'''"
      ],
      "execution_count": 0,
      "outputs": [
        {
          "output_type": "stream",
          "text": [
            "[[['n04423845' 'thimble' '0.7259098']\n",
            "  ['n01768244' 'trilobite' '0.102758445']\n",
            "  ['n03871628' 'packet' '0.019814285']]]\n"
          ],
          "name": "stdout"
        }
      ]
    },
    {
      "cell_type": "code",
      "metadata": {
        "id": "Mi3OahdzudSc",
        "colab_type": "code",
        "colab": {}
      },
      "source": [
        ""
      ],
      "execution_count": 0,
      "outputs": []
    },
    {
      "cell_type": "markdown",
      "metadata": {
        "id": "EmMZFMlk6KsO",
        "colab_type": "text"
      },
      "source": [
        "# Load food features and one hot encode:"
      ]
    },
    {
      "cell_type": "markdown",
      "metadata": {
        "id": "kyKFWtREudSf",
        "colab_type": "text"
      },
      "source": [
        "Now we need to load the newly generated features, train a neural net on the triplets with the new features and see what happens:)"
      ]
    },
    {
      "cell_type": "markdown",
      "metadata": {
        "id": "gEejbvM7vAoQ",
        "colab_type": "text"
      },
      "source": [
        "Load food features:"
      ]
    },
    {
      "cell_type": "code",
      "metadata": {
        "id": "qkU9aOL2udSf",
        "colab_type": "code",
        "colab": {
          "base_uri": "https://localhost:8080/",
          "height": 336
        },
        "outputId": "3cb17901-594e-40ba-aaa9-2b34a463fcc5"
      },
      "source": [
        "df = pd.read_csv(\"food_features\") \n",
        "print(df)\n",
        "print(df.iloc[2678, :])"
      ],
      "execution_count": 74,
      "outputs": [
        {
          "output_type": "stream",
          "text": [
            "           first         second         third\n",
            "0        thimble      trilobite        packet\n",
            "1         potpie         bakery         dough\n",
            "2      ice_cream  mashed_potato         dough\n",
            "3      ice_cream          dough     meat_loaf\n",
            "4        burrito        pretzel     carbonara\n",
            "...          ...            ...           ...\n",
            "9995   ice_cream     neck_brace      lipstick\n",
            "9996  strawberry      ice_cream      baseball\n",
            "9997   meat_loaf          pizza  wooden_spoon\n",
            "9998   soup_bowl     frying_pan         loupe\n",
            "9999       dough           wool        mortar\n",
            "\n",
            "[10000 rows x 3 columns]\n",
            "first           tray\n",
            "second    strawberry\n",
            "third       cucumber\n",
            "Name: 2678, dtype: object\n"
          ],
          "name": "stdout"
        }
      ]
    },
    {
      "cell_type": "markdown",
      "metadata": {
        "id": "VtLAV_yh_HZm",
        "colab_type": "text"
      },
      "source": [
        "Generate dataset:"
      ]
    },
    {
      "cell_type": "code",
      "metadata": {
        "id": "c3bdoH1s_GeO",
        "colab_type": "code",
        "colab": {
          "base_uri": "https://localhost:8080/",
          "height": 514
        },
        "outputId": "2d80a979-518d-4a98-b4f6-9692a26842fc"
      },
      "source": [
        "df_triplets = pd.read_csv('train_triplets.txt', sep=\" \", header=None)\n",
        "print(df_triplets)\n",
        "\n",
        "a = np.empty(shape=(df_triplets.shape[0],9), dtype='object')\n",
        "\n",
        "for i in range(3):\n",
        "  for idx, x in df_triplets[i].iteritems():\n",
        "    a[idx, 3*i] = df.iloc[x, 0]\n",
        "    a[idx, 3*i+1] = df.iloc[x, 1]\n",
        "    a[idx, 3*i+2] = df.iloc[x, 2]\n",
        "\n",
        "df_triplets['A_1'], df_triplets['A_2'], df_triplets['A_3'] = [a[:, 0], a[:, 1], a[:, 2]]\n",
        "df_triplets['B_1'], df_triplets['B_2'], df_triplets['B_3'] = [a[:, 3], a[:, 4], a[:, 5]]\n",
        "df_triplets['C_1'], df_triplets['C_2'], df_triplets['C_3'] = [a[:, 6], a[:, 7], a[:, 8]]\n",
        "\n",
        "df_triplets = df_triplets.drop(columns=[0, 1, 2])\n",
        "\n",
        "print(df_triplets)"
      ],
      "execution_count": 96,
      "outputs": [
        {
          "output_type": "stream",
          "text": [
            "          0     1     2\n",
            "0      2461  3450  2678\n",
            "1      2299  2499  4987\n",
            "2      4663  1056  3029\n",
            "3      4532  1186  1297\n",
            "4      3454  3809  2204\n",
            "...     ...   ...   ...\n",
            "59510   466  2952  2530\n",
            "59511  2646  3580  2359\n",
            "59512  3255  4844  4334\n",
            "59513  2136  4619   161\n",
            "59514  2509  2552  3406\n",
            "\n",
            "[59515 rows x 3 columns]\n",
            "                 A_1            A_2  ...               C_2           C_3\n",
            "0          ice_lolly     strawberry  ...        strawberry      cucumber\n",
            "1      mashed_potato      ice_cream  ...               wok  wooden_spoon\n",
            "2             orange            hip  ...        rotisserie         plate\n",
            "3            pretzel          bagel  ...      coral_fungus     gyromitra\n",
            "4              acorn            hip  ...  butternut_squash  acorn_squash\n",
            "...              ...            ...  ...               ...           ...\n",
            "59510          plate       broccoli  ...          broccoli         plate\n",
            "59511   coral_fungus          dough  ...        frying_pan          corn\n",
            "59512      soup_bowl        hot_pot  ...  pencil_sharpener       toaster\n",
            "59513          plate  mashed_potato  ...            chiton     cockroach\n",
            "59514  mashed_potato      meat_loaf  ...         carbonara     guacamole\n",
            "\n",
            "[59515 rows x 9 columns]\n"
          ],
          "name": "stdout"
        }
      ]
    },
    {
      "cell_type": "markdown",
      "metadata": {
        "id": "ZLWrCI-qvGej",
        "colab_type": "text"
      },
      "source": [
        "One-hot encode:"
      ]
    },
    {
      "cell_type": "code",
      "metadata": {
        "id": "hPa7A-PzvAT7",
        "colab_type": "code",
        "colab": {
          "base_uri": "https://localhost:8080/",
          "height": 265
        },
        "outputId": "6f358030-224b-4950-8d89-f199b53865a2"
      },
      "source": [
        "df_triplets_oh = pd.get_dummies(data=df_triplets)\n",
        "print(df_triplets_oh)"
      ],
      "execution_count": 97,
      "outputs": [
        {
          "output_type": "stream",
          "text": [
            "       A_1_African_chameleon  A_1_African_crocodile  ...  C_3_wreck  C_3_zucchini\n",
            "0                          0                      0  ...          0             0\n",
            "1                          0                      0  ...          0             0\n",
            "2                          0                      0  ...          0             0\n",
            "3                          0                      0  ...          0             0\n",
            "4                          0                      0  ...          0             0\n",
            "...                      ...                    ...  ...        ...           ...\n",
            "59510                      0                      0  ...          0             0\n",
            "59511                      0                      0  ...          0             0\n",
            "59512                      0                      0  ...          0             0\n",
            "59513                      0                      0  ...          0             0\n",
            "59514                      0                      0  ...          0             0\n",
            "\n",
            "[59515 rows x 3080 columns]\n"
          ],
          "name": "stdout"
        }
      ]
    },
    {
      "cell_type": "markdown",
      "metadata": {
        "id": "3A80ekfk5iaA",
        "colab_type": "text"
      },
      "source": [
        "# Train net:"
      ]
    },
    {
      "cell_type": "code",
      "metadata": {
        "id": "z2-jXnAR5vTT",
        "colab_type": "code",
        "colab": {}
      },
      "source": [
        "model = keras.Sequential()\n",
        "model.add(Dense(150, input_dim=3*x_train_oh.shape[1], activation='relu'))\n",
        "model.add(Dense(100, activation='relu'))\n",
        "model.add(Dense(1, activation='sigmoid'))\n",
        "\n",
        "model.compile(loss='binary_crossentropy', optimizer='adam', metrics=['accuracy'])\n",
        "\n",
        "model.fit(x_train_oh.values, y, epochs=100, batch_size=32, validation_split=.2)"
      ],
      "execution_count": 0,
      "outputs": []
    }
  ]
}