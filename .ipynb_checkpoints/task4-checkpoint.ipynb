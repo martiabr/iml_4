{
 "cells": [
  {
   "cell_type": "markdown",
   "metadata": {},
   "source": [
    "### Install keras and tensorflow:"
   ]
  },
  {
   "cell_type": "code",
   "execution_count": 1,
   "metadata": {},
   "outputs": [],
   "source": [
    "!conda install -c conda-forge keras --yes\n",
    "!conda install -c conda-forge tensorflow --yes"
   ]
  },
  {
   "cell_type": "markdown",
   "metadata": {},
   "source": [
    "### Import libraries:"
   ]
  },
  {
   "cell_type": "code",
   "execution_count": 60,
   "metadata": {},
   "outputs": [
    {
     "name": "stdout",
     "output_type": "stream",
     "text": [
      "['04354.jpg', '02725.jpg', '07885.jpg', '09670.jpg', '06543.jpg', '00132.jpg', '00654.jpg', '08208.jpg', '09116.jpg', '06225.jpg', '02043.jpg', '04432.jpg', '02057.jpg', '05738.jpg', '04426.jpg', '03349.jpg', '00640.jpg', '00898.jpg', '09102.jpg', '06231.jpg', '01238.jpg', '07891.jpg', '09664.jpg', '06557.jpg', '07649.jpg', '00126.jpg', '04340.jpg', '02731.jpg', '01210.jpg', '07661.jpg', '08552.jpg', '09894.jpg', '03407.jpg', '04368.jpg', '05076.jpg', '02719.jpg', '05710.jpg', '03361.jpg', '00668.jpg', '07107.jpg', '08234.jpg', '06219.jpg', '01576.jpg', '07113.jpg', '08220.jpg', '01562.jpg', '05704.jpg', '03375.jpg', '03413.jpg', '05062.jpg', '01204.jpg', '09658.jpg', '07675.jpg', '08546.jpg', '09880.jpg', '07846.jpg', '06580.jpg', '05089.jpg', '04397.jpg', '05937.jpg', '02080.jpg', '01589.jpg', '00697.jpg', '00683.jpg', '05923.jpg', '02094.jpg', '04383.jpg', '07852.jpg', '06594.jpg', '02902.jpg', '08591.jpg', '09857.jpg', '00873.jpg', '00867.jpg', '08585.jpg', '09843.jpg', '02916.jpg', '04630.jpg', '02241.jpg', '01748.jpg', '06027.jpg', '09314.jpg', '07339.jpg', '01990.jpg', '00456.jpg', '06999.jpg', '00330.jpg', '06741.jpg', '09472.jpg', '02527.jpg', '05248.jpg', '04156.jpg', '03639.jpg', '02533.jpg', '04142.jpg', '00324.jpg', '08778.jpg', '06755.jpg', '09466.jpg', '06033.jpg']\n"
     ]
    }
   ],
   "source": [
    "import numpy as np\n",
    "import pandas as pd\n",
    "import tensorflow as tf\n",
    "from matplotlib import pyplot as plt\n",
    "import os\n",
    "\n",
    "from tensorflow.keras.applications.resnet50 import ResNet50\n",
    "from tensorflow.keras.preprocessing import image\n",
    "from tensorflow.keras.applications.resnet50 import preprocess_input, decode_predictions"
   ]
  },
  {
   "cell_type": "markdown",
   "metadata": {},
   "source": [
    "### Data import:"
   ]
  },
  {
   "cell_type": "code",
   "execution_count": 103,
   "metadata": {},
   "outputs": [],
   "source": [
    "'''img_path = 'food/00008.jpg'\n",
    "img = image.load_img(img_path, target_size=(224, 224))\n",
    "x = image.img_to_array(img)\n",
    "x = np.expand_dims(x, axis=0)\n",
    "x = preprocess_input(x)'''\n",
    "\n",
    "folder_path = 'food/'\n",
    "\n",
    "img_width, img_height = 224, 224\n",
    "\n",
    "# load all images into a list\n",
    "file_list = sorted(os.listdir(folder_path)[0:10])\n",
    "images = []\n",
    "for img in file_list:\n",
    "    if img == '.DS_Store':  # ignore stupid fookin mac file that wont go away\n",
    "        continue\n",
    "    img = os.path.join(folder_path, img)\n",
    "    img = image.load_img(img, target_size=(img_width, img_height))\n",
    "    img = image.img_to_array(img)\n",
    "    img = np.expand_dims(img, axis=0)\n",
    "    images.append(img)\n",
    "\n",
    "# stack up images list to pass for prediction\n",
    "images = np.vstack(images)"
   ]
  },
  {
   "cell_type": "markdown",
   "metadata": {},
   "source": [
    "### Load pre-trained model:"
   ]
  },
  {
   "cell_type": "code",
   "execution_count": 82,
   "metadata": {},
   "outputs": [],
   "source": [
    "model = ResNet50(weights='imagenet')"
   ]
  },
  {
   "cell_type": "markdown",
   "metadata": {},
   "source": [
    "### Predict:"
   ]
  },
  {
   "cell_type": "code",
   "execution_count": 124,
   "metadata": {},
   "outputs": [],
   "source": [
    "predictions = model.predict(images, batch_size=64)"
   ]
  },
  {
   "cell_type": "markdown",
   "metadata": {},
   "source": [
    "### Save:"
   ]
  },
  {
   "cell_type": "code",
   "execution_count": 132,
   "metadata": {},
   "outputs": [
    {
     "name": "stdout",
     "output_type": "stream",
     "text": [
      "           first       second         third\n",
      "0     coral_reef     mushroom        bolete\n",
      "1          dough  brain_coral          coil\n",
      "2         goblet      thimble       pitcher\n",
      "3     leafhopper       cicada       spindle\n",
      "4           pick       shield     spotlight\n",
      "5      soup_bowl          cup       pitcher\n",
      "6  jigsaw_puzzle  loudspeaker  water_bottle\n",
      "7          screw   sea_urchin   beer_bottle\n",
      "8     hair_slide     fountain        bonnet\n",
      "9       bolo_tie      peacock  water_bottle\n"
     ]
    }
   ],
   "source": [
    "# Save top 3 label probabilities as the 3 features describing image:\n",
    "predictions_decoded = np.array(decode_predictions(predictions, top=3))\n",
    "predictions_decoded = predictions_decoded[:, :, 1]\n",
    "\n",
    "df = pd.DataFrame(predictions_decoded, columns=['first', 'second', 'third'])\n",
    "print(df)\n",
    "\n",
    "df.to_csv('food_features', index=False)"
   ]
  },
  {
   "cell_type": "code",
   "execution_count": 133,
   "metadata": {},
   "outputs": [
    {
     "name": "stdout",
     "output_type": "stream",
     "text": [
      "           first       second         third\n",
      "0     coral_reef     mushroom        bolete\n",
      "1          dough  brain_coral          coil\n",
      "2         goblet      thimble       pitcher\n",
      "3     leafhopper       cicada       spindle\n",
      "4           pick       shield     spotlight\n",
      "5      soup_bowl          cup       pitcher\n",
      "6  jigsaw_puzzle  loudspeaker  water_bottle\n",
      "7          screw   sea_urchin   beer_bottle\n",
      "8     hair_slide     fountain        bonnet\n",
      "9       bolo_tie      peacock  water_bottle\n"
     ]
    }
   ],
   "source": [
    "df = pd.read_csv('food_features')\n",
    "print(df)"
   ]
  },
  {
   "cell_type": "code",
   "execution_count": null,
   "metadata": {},
   "outputs": [],
   "source": []
  }
 ],
 "metadata": {
  "kernelspec": {
   "display_name": "Python 3",
   "language": "python",
   "name": "python3"
  },
  "language_info": {
   "codemirror_mode": {
    "name": "ipython",
    "version": 3
   },
   "file_extension": ".py",
   "mimetype": "text/x-python",
   "name": "python",
   "nbconvert_exporter": "python",
   "pygments_lexer": "ipython3",
   "version": "3.7.6"
  }
 },
 "nbformat": 4,
 "nbformat_minor": 4
}
