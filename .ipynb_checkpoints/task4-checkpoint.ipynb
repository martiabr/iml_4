{
 "cells": [
  {
   "cell_type": "markdown",
   "metadata": {},
   "source": [
    "### Install keras and tensorflow:"
   ]
  },
  {
   "cell_type": "code",
   "execution_count": 1,
   "metadata": {},
   "outputs": [],
   "source": [
    "!conda install -c conda-forge keras --yes\n",
    "!conda install -c conda-forge tensorflow --yes"
   ]
  },
  {
   "cell_type": "markdown",
   "metadata": {},
   "source": [
    "### Import libraries:"
   ]
  },
  {
   "cell_type": "code",
   "execution_count": 134,
   "metadata": {},
   "outputs": [],
   "source": [
    "import numpy as np\n",
    "import pandas as pd\n",
    "import tensorflow as tf\n",
    "from matplotlib import pyplot as plt\n",
    "import os\n",
    "\n",
    "from tensorflow.keras.applications.resnet50 import ResNet50\n",
    "from tensorflow.keras.preprocessing import image\n",
    "from tensorflow.keras.applications.resnet50 import preprocess_input, decode_predictions"
   ]
  },
  {
   "cell_type": "markdown",
   "metadata": {},
   "source": [
    "### Data import:"
   ]
  },
  {
   "cell_type": "code",
   "execution_count": 135,
   "metadata": {},
   "outputs": [],
   "source": [
    "folder_path = 'food/'\n",
    "\n",
    "img_width, img_height = 224, 224\n",
    "\n",
    "# load all images into a list\n",
    "file_list = sorted(os.listdir(folder_path))\n",
    "images = []\n",
    "for img in file_list:\n",
    "    if img == '.DS_Store':  # ignore stupid fookin mac file that wont go away\n",
    "        continue\n",
    "    img = os.path.join(folder_path, img)\n",
    "    img = image.load_img(img, target_size=(img_width, img_height))\n",
    "    img = image.img_to_array(img)\n",
    "    img = np.expand_dims(img, axis=0)\n",
    "    img = preprocess_input(img)\n",
    "    images.append(img)\n",
    "\n",
    "# stack up images list to pass for prediction\n",
    "images = np.vstack(images)"
   ]
  },
  {
   "cell_type": "markdown",
   "metadata": {},
   "source": [
    "### Load pre-trained model:"
   ]
  },
  {
   "cell_type": "code",
   "execution_count": 139,
   "metadata": {},
   "outputs": [],
   "source": [
    "model = ResNet50(weights='imagenet')"
   ]
  },
  {
   "cell_type": "markdown",
   "metadata": {},
   "source": [
    "### Predict:"
   ]
  },
  {
   "cell_type": "code",
   "execution_count": 140,
   "metadata": {},
   "outputs": [
    {
     "name": "stdout",
     "output_type": "stream",
     "text": [
      "10000/10000 [==============================] - 1892s 189ms/sample\n"
     ]
    }
   ],
   "source": [
    "predictions = model.predict(images, batch_size=64, verbose=1)"
   ]
  },
  {
   "cell_type": "markdown",
   "metadata": {},
   "source": [
    "### Save:"
   ]
  },
  {
   "cell_type": "code",
   "execution_count": 141,
   "metadata": {},
   "outputs": [
    {
     "name": "stdout",
     "output_type": "stream",
     "text": [
      "           first        second     third\n",
      "0        thimble        shield    buckle\n",
      "1         bucket     ice_cream       cup\n",
      "2      seat_belt       toaster       cup\n",
      "3      spotlight         screw   burrito\n",
      "4     hair_slide          coil    buckle\n",
      "...          ...           ...       ...\n",
      "9995        hook  water_bottle    buckle\n",
      "9996       screw          pick    shield\n",
      "9997   spotlight          gong  strainer\n",
      "9998       loupe     bottlecap      puck\n",
      "9999        wool    bath_towel    mortar\n",
      "\n",
      "[10000 rows x 3 columns]\n"
     ]
    }
   ],
   "source": [
    "# Save top 3 label probabilities as the 3 features describing image:\n",
    "predictions_decoded = np.array(decode_predictions(predictions, top=3))\n",
    "predictions_decoded = predictions_decoded[:, :, 1]\n",
    "\n",
    "df = pd.DataFrame(predictions_decoded, columns=['first', 'second', 'third'])\n",
    "print(df)\n",
    "\n",
    "df.to_csv('food_features', index=False)"
   ]
  },
  {
   "cell_type": "code",
   "execution_count": 142,
   "metadata": {},
   "outputs": [
    {
     "name": "stdout",
     "output_type": "stream",
     "text": [
      "           first        second     third\n",
      "0        thimble        shield    buckle\n",
      "1         bucket     ice_cream       cup\n",
      "2      seat_belt       toaster       cup\n",
      "3      spotlight         screw   burrito\n",
      "4     hair_slide          coil    buckle\n",
      "...          ...           ...       ...\n",
      "9995        hook  water_bottle    buckle\n",
      "9996       screw          pick    shield\n",
      "9997   spotlight          gong  strainer\n",
      "9998       loupe     bottlecap      puck\n",
      "9999        wool    bath_towel    mortar\n",
      "\n",
      "[10000 rows x 3 columns]\n"
     ]
    }
   ],
   "source": []
  },
  {
   "cell_type": "code",
   "execution_count": 152,
   "metadata": {},
   "outputs": [
    {
     "name": "stdout",
     "output_type": "stream",
     "text": [
      "[[['n07875152' 'potpie' '0.14519256']\n",
      "  ['n02776631' 'bakery' '0.11642631']\n",
      "  ['n07860988' 'dough' '0.108410165']]]\n"
     ]
    }
   ],
   "source": [
    "img_path = 'food/00001.jpg'\n",
    "img = image.load_img(img_path, target_size=(224, 224))\n",
    "x = image.img_to_array(img)\n",
    "x = np.expand_dims(x, axis=0)\n",
    "x = preprocess_input(x)\n",
    "\n",
    "pred = model.predict(x)\n",
    "pred = np.array(decode_predictions(pred, top=3))\n",
    "print(pred)"
   ]
  },
  {
   "cell_type": "code",
   "execution_count": 155,
   "metadata": {},
   "outputs": [
    {
     "name": "stdout",
     "output_type": "stream",
     "text": [
      "['00001.jpg']\n",
      "[[['n07875152' 'potpie' '0.14519256']\n",
      "  ['n02776631' 'bakery' '0.11642631']\n",
      "  ['n07860988' 'dough' '0.108410165']]]\n"
     ]
    }
   ],
   "source": [
    "file_list = sorted(os.listdir(folder_path))[2:3]\n",
    "print(file_list)\n",
    "images = []\n",
    "for img in file_list:\n",
    "    if img == '.DS_Store':  # ignore stupid fookin mac file that wont go away\n",
    "        continue\n",
    "    img = os.path.join(folder_path, img)\n",
    "    img = image.load_img(img, target_size=(img_width, img_height))\n",
    "    img = image.img_to_array(img)\n",
    "    img = np.expand_dims(img, axis=0)\n",
    "    img = preprocess_input(img)\n",
    "    images.append(img)\n",
    "\n",
    "# stack up images list to pass for prediction\n",
    "images = np.vstack(images)\n",
    "\n",
    "pred = model.predict(images)\n",
    "pred = np.array(decode_predictions(pred, top=3))\n",
    "print(pred)"
   ]
  },
  {
   "cell_type": "code",
   "execution_count": null,
   "metadata": {},
   "outputs": [],
   "source": []
  }
 ],
 "metadata": {
  "kernelspec": {
   "display_name": "Python 3",
   "language": "python",
   "name": "python3"
  },
  "language_info": {
   "codemirror_mode": {
    "name": "ipython",
    "version": 3
   },
   "file_extension": ".py",
   "mimetype": "text/x-python",
   "name": "python",
   "nbconvert_exporter": "python",
   "pygments_lexer": "ipython3",
   "version": "3.7.6"
  }
 },
 "nbformat": 4,
 "nbformat_minor": 4
}
