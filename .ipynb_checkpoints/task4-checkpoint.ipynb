{
 "cells": [
  {
   "cell_type": "markdown",
   "metadata": {},
   "source": [
    "### Install keras and tensorflow:"
   ]
  },
  {
   "cell_type": "code",
   "execution_count": 1,
   "metadata": {},
   "outputs": [],
   "source": [
    "!conda install -c conda-forge keras --yes\n",
    "!conda install -c conda-forge tensorflow --yes"
   ]
  },
  {
   "cell_type": "markdown",
   "metadata": {},
   "source": [
    "### Import libraries:"
   ]
  },
  {
   "cell_type": "code",
   "execution_count": 60,
   "metadata": {},
   "outputs": [
    {
     "name": "stdout",
     "output_type": "stream",
     "text": [
      "['04354.jpg', '02725.jpg', '07885.jpg', '09670.jpg', '06543.jpg', '00132.jpg', '00654.jpg', '08208.jpg', '09116.jpg', '06225.jpg', '02043.jpg', '04432.jpg', '02057.jpg', '05738.jpg', '04426.jpg', '03349.jpg', '00640.jpg', '00898.jpg', '09102.jpg', '06231.jpg', '01238.jpg', '07891.jpg', '09664.jpg', '06557.jpg', '07649.jpg', '00126.jpg', '04340.jpg', '02731.jpg', '01210.jpg', '07661.jpg', '08552.jpg', '09894.jpg', '03407.jpg', '04368.jpg', '05076.jpg', '02719.jpg', '05710.jpg', '03361.jpg', '00668.jpg', '07107.jpg', '08234.jpg', '06219.jpg', '01576.jpg', '07113.jpg', '08220.jpg', '01562.jpg', '05704.jpg', '03375.jpg', '03413.jpg', '05062.jpg', '01204.jpg', '09658.jpg', '07675.jpg', '08546.jpg', '09880.jpg', '07846.jpg', '06580.jpg', '05089.jpg', '04397.jpg', '05937.jpg', '02080.jpg', '01589.jpg', '00697.jpg', '00683.jpg', '05923.jpg', '02094.jpg', '04383.jpg', '07852.jpg', '06594.jpg', '02902.jpg', '08591.jpg', '09857.jpg', '00873.jpg', '00867.jpg', '08585.jpg', '09843.jpg', '02916.jpg', '04630.jpg', '02241.jpg', '01748.jpg', '06027.jpg', '09314.jpg', '07339.jpg', '01990.jpg', '00456.jpg', '06999.jpg', '00330.jpg', '06741.jpg', '09472.jpg', '02527.jpg', '05248.jpg', '04156.jpg', '03639.jpg', '02533.jpg', '04142.jpg', '00324.jpg', '08778.jpg', '06755.jpg', '09466.jpg', '06033.jpg']\n"
     ]
    }
   ],
   "source": [
    "import numpy as np\n",
    "import pandas as pd\n",
    "import tensorflow as tf\n",
    "from matplotlib import pyplot as plt\n",
    "import os\n",
    "\n",
    "from tensorflow.keras.applications.resnet50 import ResNet50\n",
    "from tensorflow.keras.preprocessing import image\n",
    "from tensorflow.keras.applications.resnet50 import preprocess_input, decode_predictions"
   ]
  },
  {
   "cell_type": "markdown",
   "metadata": {},
   "source": [
    "### Data import:"
   ]
  },
  {
   "cell_type": "code",
   "execution_count": 61,
   "metadata": {},
   "outputs": [],
   "source": [
    "'''img_path = 'food/00008.jpg'\n",
    "img = image.load_img(img_path, target_size=(224, 224))\n",
    "x = image.img_to_array(img)\n",
    "x = np.expand_dims(x, axis=0)\n",
    "x = preprocess_input(x)'''\n",
    "\n",
    "folder_path = 'food/'\n",
    "\n",
    "img_width, img_height = 224, 224\n",
    "\n",
    "# load all images into a list\n",
    "images = []\n",
    "for img in sorted(os.listdir(folder_path)[0:1000]):\n",
    "    if img == '.DS_Store':  # ignore stupid fookin mac file that wont go away\n",
    "        continue\n",
    "    img = os.path.join(folder_path, img)\n",
    "    img = image.load_img(img, target_size=(img_width, img_height))\n",
    "    img = image.img_to_array(img)\n",
    "    img = np.expand_dims(img, axis=0)\n",
    "    images.append(img)\n",
    "\n",
    "# stack up images list to pass for prediction\n",
    "images = np.vstack(images)"
   ]
  },
  {
   "cell_type": "code",
   "execution_count": 64,
   "metadata": {},
   "outputs": [],
   "source": [
    "model = ResNet50(weights='imagenet')"
   ]
  },
  {
   "cell_type": "markdown",
   "metadata": {},
   "source": [
    "### Predict:"
   ]
  },
  {
   "cell_type": "code",
   "execution_count": 68,
   "metadata": {},
   "outputs": [],
   "source": [
    "preds = model.predict(images, batch_size=64)"
   ]
  },
  {
   "cell_type": "code",
   "execution_count": 71,
   "metadata": {},
   "outputs": [
    {
     "name": "stdout",
     "output_type": "stream",
     "text": [
      "[[('n02259212', 'leafhopper', 0.34179944)], [('n03443371', 'goblet', 0.6071913)], [('n03598930', 'jigsaw_puzzle', 0.3134148)], [('n02865351', 'bolo_tie', 0.31319568)], [('n04263257', 'soup_bowl', 0.073865)], [('n09256479', 'coral_reef', 0.23460923)], [('n07860988', 'dough', 0.15521096)], [('n04153751', 'screw', 0.24054924)], [('n03476684', 'hair_slide', 0.1524216)], [('n03929660', 'pick', 0.09238505)], [('n01930112', 'nematode', 0.3968284)], [('n02865351', 'bolo_tie', 0.6380864)], [('n04286575', 'spotlight', 0.29872495)], [('n03980874', 'poncho', 0.17776647)], [('n03775071', 'mitten', 0.24131075)], [('n04131690', 'saltshaker', 0.32873103)], [('n02808304', 'bath_towel', 0.49505055)], [('n03476684', 'hair_slide', 0.24328203)], [('n02910353', 'buckle', 0.1265269)], [('n02909870', 'bucket', 0.18284053)], [('n09256479', 'coral_reef', 0.2571087)], [('n03887697', 'paper_towel', 0.4000097)], [('n04553703', 'washbasin', 0.21908784)], [('n07584110', 'consomme', 0.8230981)], [('n03476684', 'hair_slide', 0.27780923)], [('n03775546', 'mixing_bowl', 0.124998316)], [('n04522168', 'vase', 0.124965884)], [('n03476684', 'hair_slide', 0.15921824)], [('n07583066', 'guacamole', 0.29327586)], [('n04153751', 'screw', 0.13814098)], [('n02526121', 'eel', 0.05650433)], [('n04286575', 'spotlight', 0.26118588)], [('n03720891', 'maraca', 0.057887435)], [('n09256479', 'coral_reef', 0.10827484)], [('n03388043', 'fountain', 0.08954828)], [('n04153751', 'screw', 0.41837025)], [('n04589890', 'window_screen', 0.6312176)], [('n04286575', 'spotlight', 0.85009426)], [('n03598930', 'jigsaw_puzzle', 0.314506)], [('n02948072', 'candle', 0.7196561)], [('n15075141', 'toilet_tissue', 0.31611055)], [('n03775071', 'mitten', 0.23097256)], [('n02865351', 'bolo_tie', 0.34674278)], [('n07579787', 'plate', 0.26165673)], [('n02910353', 'buckle', 0.23999812)], [('n04153751', 'screw', 0.49266806)], [('n04254777', 'sock', 0.25924855)], [('n07614500', 'ice_cream', 0.13185494)], [('n04263257', 'soup_bowl', 0.35893187)], [('n04153751', 'screw', 0.57569385)], [('n04153751', 'screw', 0.7040012)], [('n01664065', 'loggerhead', 0.083900794)], [('n04153751', 'screw', 0.11224417)], [('n04525038', 'velvet', 0.9877099)], [('n04367480', 'swab', 0.24638729)], [('n03983396', 'pop_bottle', 0.20591515)], [('n02319095', 'sea_urchin', 0.1768305)], [('n02910353', 'buckle', 0.39415276)], [('n03476684', 'hair_slide', 0.21087874)], [('n07880968', 'burrito', 0.1202703)], [('n09256479', 'coral_reef', 0.2869923)], [('n04153751', 'screw', 0.09017684)], [('n04153751', 'screw', 0.3895986)], [('n04423845', 'thimble', 0.327248)], [('n03775071', 'mitten', 0.5267245)], [('n04286575', 'spotlight', 0.6486091)], [('n02910353', 'buckle', 0.25050783)], [('n04286575', 'spotlight', 0.23108909)], [('n03887697', 'paper_towel', 0.35971978)], [('n09256479', 'coral_reef', 0.3682617)], [('n07614500', 'ice_cream', 0.14395908)], [('n03476684', 'hair_slide', 0.41688412)], [('n03065424', 'coil', 0.24300262)], [('n03874599', 'padlock', 0.17174378)], [('n02895154', 'breastplate', 0.23847948)], [('n04286575', 'spotlight', 0.21179396)], [('n03065424', 'coil', 0.19290641)], [('n04476259', 'tray', 0.30301842)], [('n04209239', 'shower_curtain', 0.3279958)], [('n09256479', 'coral_reef', 0.23300597)], [('n03388043', 'fountain', 0.37300175)], [('n03291819', 'envelope', 0.39782757)], [('n07880968', 'burrito', 0.35688543)], [('n09256479', 'coral_reef', 0.4048163)], [('n03388043', 'fountain', 0.43000314)], [('n04557648', 'water_bottle', 0.7805069)], [('n04074963', 'remote_control', 0.14910708)], [('n02843684', 'birdhouse', 0.3036942)], [('n04286575', 'spotlight', 0.83461356)], [('n04153751', 'screw', 0.3970754)], [('n03991062', 'pot', 0.55255693)], [('n03065424', 'coil', 0.34918457)], [('n04286575', 'spotlight', 0.9128715)], [('n04263257', 'soup_bowl', 0.122237526)], [('n02909870', 'bucket', 0.17037824)], [('n03208938', 'disk_brake', 0.34268534)], [('n03944341', 'pinwheel', 0.60463446)], [('n03720891', 'maraca', 0.08138541)], [('n04599235', 'wool', 0.1365707)], [('n03476684', 'hair_slide', 0.15849648)]]\n",
      "['00126.jpg', '00132.jpg', '00324.jpg', '00330.jpg', '00456.jpg', '00640.jpg', '00654.jpg', '00668.jpg', '00683.jpg', '00697.jpg', '00867.jpg', '00873.jpg', '00898.jpg', '01204.jpg', '01210.jpg', '01238.jpg', '01562.jpg', '01576.jpg', '01589.jpg', '01748.jpg', '01990.jpg', '02043.jpg', '02057.jpg', '02080.jpg', '02094.jpg', '02241.jpg', '02527.jpg', '02533.jpg', '02719.jpg', '02725.jpg', '02731.jpg', '02902.jpg', '02916.jpg', '03349.jpg', '03361.jpg', '03375.jpg', '03407.jpg', '03413.jpg', '03639.jpg', '04142.jpg', '04156.jpg', '04340.jpg', '04354.jpg', '04368.jpg', '04383.jpg', '04397.jpg', '04426.jpg', '04432.jpg', '04630.jpg', '05062.jpg', '05076.jpg', '05089.jpg', '05248.jpg', '05704.jpg', '05710.jpg', '05738.jpg', '05923.jpg', '05937.jpg', '06027.jpg', '06033.jpg', '06219.jpg', '06225.jpg', '06231.jpg', '06543.jpg', '06557.jpg', '06580.jpg', '06594.jpg', '06741.jpg', '06755.jpg', '06999.jpg', '07107.jpg', '07113.jpg', '07339.jpg', '07649.jpg', '07661.jpg', '07675.jpg', '07846.jpg', '07852.jpg', '07885.jpg', '07891.jpg', '08208.jpg', '08220.jpg', '08234.jpg', '08546.jpg', '08552.jpg', '08585.jpg', '08591.jpg', '08778.jpg', '09102.jpg', '09116.jpg', '09314.jpg', '09466.jpg', '09472.jpg', '09658.jpg', '09664.jpg', '09670.jpg', '09843.jpg', '09857.jpg', '09880.jpg', '09894.jpg']\n"
     ]
    }
   ],
   "source": [
    "print(decode_predictions(preds, top=1))"
   ]
  },
  {
   "cell_type": "code",
   "execution_count": null,
   "metadata": {},
   "outputs": [],
   "source": []
  }
 ],
 "metadata": {
  "kernelspec": {
   "display_name": "Python 3",
   "language": "python",
   "name": "python3"
  },
  "language_info": {
   "codemirror_mode": {
    "name": "ipython",
    "version": 3
   },
   "file_extension": ".py",
   "mimetype": "text/x-python",
   "name": "python",
   "nbconvert_exporter": "python",
   "pygments_lexer": "ipython3",
   "version": "3.7.6"
  }
 },
 "nbformat": 4,
 "nbformat_minor": 4
}
